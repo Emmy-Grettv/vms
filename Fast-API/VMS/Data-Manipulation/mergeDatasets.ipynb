{
 "cells": [
  {
   "cell_type": "code",
   "execution_count": 31,
   "id": "ea09d030-ae1a-402f-8c56-7670424edfc5",
   "metadata": {},
   "outputs": [
    {
     "name": "stdout",
     "output_type": "stream",
     "text": [
      "Merged Data Shape:\n",
      "Rows: 6601, Columns: 12\n",
      "               age  volunteer_id     event_id\n",
      "count  6601.000000   6601.000000  6601.000000\n",
      "mean     43.866990   3301.000000  3301.000000\n",
      "std      15.404443   1905.688896  1905.688896\n",
      "min       0.000000      1.000000     1.000000\n",
      "25%      30.000000   1651.000000  1651.000000\n",
      "50%      44.000000   3301.000000  3301.000000\n",
      "75%      57.000000   4951.000000  4951.000000\n",
      "max      70.000000   6601.000000  6601.000000\n",
      "<class 'pandas.core.frame.DataFrame'>\n",
      "RangeIndex: 6601 entries, 0 to 6600\n",
      "Data columns (total 12 columns):\n",
      " #   Column        Non-Null Count  Dtype \n",
      "---  ------        --------------  ----- \n",
      " 0   name_x        6601 non-null   object\n",
      " 1   email         6601 non-null   object\n",
      " 2   phone_number  6601 non-null   object\n",
      " 3   age           6601 non-null   int64 \n",
      " 4   skills        6601 non-null   object\n",
      " 5   volunteer_id  6601 non-null   int64 \n",
      " 6   name_y        6601 non-null   object\n",
      " 7   description   6601 non-null   object\n",
      " 8   location      6601 non-null   object\n",
      " 9   date          6601 non-null   object\n",
      " 10  time          6601 non-null   object\n",
      " 11  event_id      6601 non-null   int64 \n",
      "dtypes: int64(3), object(9)\n",
      "memory usage: 619.0+ KB\n",
      "None\n",
      "name_x          0\n",
      "email           0\n",
      "phone_number    0\n",
      "age             0\n",
      "skills          0\n",
      "volunteer_id    0\n",
      "name_y          0\n",
      "description     0\n",
      "location        0\n",
      "date            0\n",
      "time            0\n",
      "event_id        0\n",
      "dtype: int64\n"
     ]
    }
   ],
   "source": [
    "import requests\n",
    "import pandas as pd\n",
    "\n",
    "try:\n",
    "    # Fetch data from the volunteers API\n",
    "    volunteers_api = requests.get(\"http://localhost:8000/volunteers/volunteers/\")\n",
    "    volunteers_api.raise_for_status()  # Raise an error for HTTP issues\n",
    "    volunteers_data = volunteers_api.json()  # Convert response to JSON\n",
    "\n",
    "    # Fetch data from the events API\n",
    "    events_api = requests.get(\"http://localhost:8000/events/events/\")\n",
    "    events_api.raise_for_status()  \n",
    "    events_data = events_api.json()  \n",
    "\n",
    "    # Convert JSON data (list) directly to Pandas DataFrames\n",
    "    volunteers_df = pd.DataFrame(volunteers_data)  \n",
    "    events_df = pd.DataFrame(events_data)  \n",
    "\n",
    "    merged_df = pd.merge(volunteers_df, events_df, how=\"inner\", left_on=\"volunteer_id\", right_on=\"event_id\")\n",
    "\n",
    "    # Describing the merged dataframe\n",
    "    print(\"Merged Data Shape:\")\n",
    "    print(f\"Rows: {merged_df.shape[0]}, Columns: {merged_df.shape[1]}\")\n",
    "    print(f\"{merged_df.describe()}\")\n",
    "    print(f\"{merged_df.info()}\")\n",
    "\n",
    "    # Find and replace null values\n",
    "    print(merged_df.isnull().sum())\n",
    "\n",
    "except requests.exceptions.RequestException as e:\n",
    "    print(f\"HTTP Request error: {e}\")\n",
    "except Exception as e:\n",
    "    print(f\"Error: {e}\")\n"
   ]
  },
  {
   "cell_type": "code",
   "execution_count": null,
   "id": "75c52b0d-3894-4362-9f97-23b56638db7a",
   "metadata": {},
   "outputs": [],
   "source": []
  },
  {
   "cell_type": "code",
   "execution_count": null,
   "id": "b6e66020-d6b8-4fb7-b16d-d8a152d7f3d4",
   "metadata": {},
   "outputs": [],
   "source": []
  }
 ],
 "metadata": {
  "kernelspec": {
   "display_name": "Python 3 (ipykernel)",
   "language": "python",
   "name": "python3"
  },
  "language_info": {
   "codemirror_mode": {
    "name": "ipython",
    "version": 3
   },
   "file_extension": ".py",
   "mimetype": "text/x-python",
   "name": "python",
   "nbconvert_exporter": "python",
   "pygments_lexer": "ipython3",
   "version": "3.12.7"
  }
 },
 "nbformat": 4,
 "nbformat_minor": 5
}
