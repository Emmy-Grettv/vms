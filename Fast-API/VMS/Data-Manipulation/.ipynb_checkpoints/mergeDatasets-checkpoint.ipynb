{
 "cells": [
  {
   "cell_type": "code",
   "execution_count": 27,
   "id": "ea09d030-ae1a-402f-8c56-7670424edfc5",
   "metadata": {},
   "outputs": [
    {
     "name": "stdout",
     "output_type": "stream",
     "text": [
      "Error: 'list' object has no attribute 'get'\n"
     ]
    }
   ],
   "source": [
    "import requests\n",
    "import pandas as pd\n",
    "\n",
    "try:\n",
    "    # Fetch data from the volunteers API\n",
    "    volunteers_api = requests.get(\"http://localhost:8000/volunteers/volunteers/\")\n",
    "    volunteers_api.raise_for_status()  # Raise an error for HTTP issues\n",
    "    volunteers_data = volunteers_api.json()  # Convert response to JSON\n",
    "\n",
    "    # Fetch data from the events API\n",
    "    events_api = requests.get(\"http://localhost:8000/events/events/\")\n",
    "    events_api.raise_for_status()  # Raise an error for HTTP issues\n",
    "    events_data = events_api.json()  # Convert response to JSON\n",
    "\n",
    "    # Convert JSON data to Pandas DataFrames\n",
    "    volunteers_df = pd.DataFrame(volunteers_data.get('volunteers', []))  # Adjust for possible nested structure\n",
    "    events_df = pd.DataFrame(events_data.get('events', []))  # Adjust for possible nested structure\n",
    "\n",
    "    # Merge DataFrames\n",
    "    merged_df = pd.merge(volunteers_df, events_df, how=\"inner\", left_on=\"volunteer_id\", right_on=\"event_id\")\n",
    "\n",
    "    # Describing the merged dataframe\n",
    "    print(\"Merged Data Shape:\")\n",
    "    print(f\"Rows: {merged_df.shape[0]}, Columns: {merged_df.shape[1]}\")\n",
    "    print(f\"{merged_df.describe()}\")\n",
    "    print(f\"{merged_df.info()}\")\n",
    "\n",
    "    # Find and replace null values\n",
    "    print(merged_df.isnull().sum())\n",
    "\n",
    "except requests.exceptions.RequestException as e:\n",
    "    print(f\"HTTP Request error: {e}\")\n",
    "except Exception as e:\n",
    "    print(f\"Error: {e}\")\n"
   ]
  },
  {
   "cell_type": "code",
   "execution_count": null,
   "id": "75c52b0d-3894-4362-9f97-23b56638db7a",
   "metadata": {},
   "outputs": [],
   "source": []
  },
  {
   "cell_type": "code",
   "execution_count": null,
   "id": "b6e66020-d6b8-4fb7-b16d-d8a152d7f3d4",
   "metadata": {},
   "outputs": [],
   "source": []
  }
 ],
 "metadata": {
  "kernelspec": {
   "display_name": "Python 3 (ipykernel)",
   "language": "python",
   "name": "python3"
  },
  "language_info": {
   "codemirror_mode": {
    "name": "ipython",
    "version": 3
   },
   "file_extension": ".py",
   "mimetype": "text/x-python",
   "name": "python",
   "nbconvert_exporter": "python",
   "pygments_lexer": "ipython3",
   "version": "3.12.7"
  }
 },
 "nbformat": 4,
 "nbformat_minor": 5
}
